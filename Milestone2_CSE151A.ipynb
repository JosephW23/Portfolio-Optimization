{
  "nbformat": 4,
  "nbformat_minor": 0,
  "metadata": {
    "colab": {
      "provenance": []
    },
    "kernelspec": {
      "name": "python3",
      "display_name": "Python 3"
    },
    "language_info": {
      "name": "python"
    }
  },
  "cells": [
    {
      "cell_type": "markdown",
      "source": [
        "Dataset: https://www.kaggle.com/datasets/macrosynergy/fixed-income-returns-and-macro-trends\n"
      ],
      "metadata": {
        "id": "bn4RKDb6TfTH"
      }
    },
    {
      "cell_type": "code",
      "execution_count": null,
      "metadata": {
        "id": "LCQ9K08wRYZm"
      },
      "outputs": [],
      "source": [
        "import numpy as np"
      ]
    }
  ]
}