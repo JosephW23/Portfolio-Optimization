{
  "nbformat": 4,
  "nbformat_minor": 0,
  "metadata": {
    "colab": {
      "provenance": [],
      "include_colab_link": true
    },
    "kernelspec": {
      "name": "python3",
      "display_name": "Python 3"
    },
    "language_info": {
      "name": "python"
    }
  },
  "cells": [
    {
      "cell_type": "markdown",
      "metadata": {
        "id": "view-in-github",
        "colab_type": "text"
      },
      "source": [
        "<a href=\"https://colab.research.google.com/github/JosephW23/Portfolio-Optimization/blob/main/Milestone2_CSE151A.ipynb\" target=\"_parent\"><img src=\"https://colab.research.google.com/assets/colab-badge.svg\" alt=\"Open In Colab\"/></a>"
      ]
    },
    {
      "cell_type": "markdown",
      "source": [
        "Dataset: https://www.kaggle.com/datasets/macrosynergy/fixed-income-returns-and-macro-trends\n"
      ],
      "metadata": {
        "id": "bn4RKDb6TfTH"
      }
    },
    {
      "cell_type": "code",
      "execution_count": 1,
      "metadata": {
        "id": "LCQ9K08wRYZm"
      },
      "outputs": [],
      "source": [
        "import numpy as np"
      ]
    },
    {
      "cell_type": "code",
      "source": [
        "import pandas as pd"
      ],
      "metadata": {
        "id": "ulDDHlhZhMXq"
      },
      "execution_count": 2,
      "outputs": []
    },
    {
      "cell_type": "code",
      "source": [
        "df = pd.read_csv(\"JPMaQS_Quantamental_Indicators.csv\")"
      ],
      "metadata": {
        "id": "T2OXVSfHhT75"
      },
      "execution_count": 12,
      "outputs": []
    },
    {
      "cell_type": "code",
      "source": [
        "df = df.drop(columns = [\"Unnamed: 0\"])"
      ],
      "metadata": {
        "id": "MNu0IqqHhY7N"
      },
      "execution_count": 14,
      "outputs": []
    },
    {
      "cell_type": "code",
      "source": [
        "df['real_date'] = pd.to_datetime(df['real_date'])"
      ],
      "metadata": {
        "id": "ieZGMaN-hfb-"
      },
      "execution_count": 15,
      "outputs": []
    },
    {
      "cell_type": "code",
      "source": [
        "df.dtypes"
      ],
      "metadata": {
        "colab": {
          "base_uri": "https://localhost:8080/"
        },
        "id": "ykFy32Kxikbx",
        "outputId": "eeb2e6cc-0dc7-4799-cd99-566deedda426"
      },
      "execution_count": 16,
      "outputs": [
        {
          "output_type": "execute_result",
          "data": {
            "text/plain": [
              "real_date    datetime64[ns]\n",
              "cid                  object\n",
              "xcat                 object\n",
              "value               float64\n",
              "grading             float64\n",
              "eop_lag             float64\n",
              "mop_lag             float64\n",
              "dtype: object"
            ]
          },
          "metadata": {},
          "execution_count": 16
        }
      ]
    },
    {
      "cell_type": "code",
      "source": [],
      "metadata": {
        "id": "usKmEDqNjIyw"
      },
      "execution_count": null,
      "outputs": []
    }
  ]
}